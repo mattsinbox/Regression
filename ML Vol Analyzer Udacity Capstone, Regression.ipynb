{
 "cells": [
  {
   "cell_type": "code",
   "execution_count": 1,
   "metadata": {},
   "outputs": [],
   "source": [
    "#import libraries \n",
    "import pandas as pd\n",
    "import numpy as np\n",
    "\n",
    "from IPython.display import display # Allows the use of display() for DataFrames\n",
    "\n",
    "\n",
    "import matplotlib.mlab as mlab\n",
    "import matplotlib.pyplot as plt\n",
    "\n",
    "# Pretty display for notebooks\n",
    "%matplotlib inline\n",
    "\n",
    "import seaborn as sns\n",
    "\n",
    "from sklearn.model_selection import train_test_split\n",
    "\n",
    "from datetime import datetime, timedelta\n",
    "\n",
    "import random\n",
    "from random import sample \n",
    "\n",
    "# Import the classifier from sklearn\n",
    "from sklearn.tree import DecisionTreeClassifier\n",
    "\n",
    "from sklearn.metrics import accuracy_score, precision_score, recall_score, f1_score\n",
    "\n",
    "from sklearn.metrics import precision_recall_fscore_support"
   ]
  },
  {
   "cell_type": "code",
   "execution_count": 2,
   "metadata": {},
   "outputs": [],
   "source": [
    "import pandas as pd  \n",
    "import numpy as np  \n",
    "import matplotlib.pyplot as plt  \n",
    "import seaborn as seabornInstance \n",
    "from sklearn.model_selection import train_test_split \n",
    "from sklearn.linear_model import LinearRegression\n",
    "from sklearn import metrics\n",
    "%matplotlib inline"
   ]
  },
  {
   "cell_type": "code",
   "execution_count": 3,
   "metadata": {},
   "outputs": [],
   "source": [
    "from sklearn.metrics import r2_score"
   ]
  },
  {
   "cell_type": "code",
   "execution_count": 4,
   "metadata": {},
   "outputs": [],
   "source": [
    "#imports from sklearn library\n",
    "\n",
    "from sklearn import datasets\n",
    "from sklearn.linear_model import LinearRegression\n",
    "from sklearn.preprocessing import PolynomialFeatures\n",
    "from sklearn.model_selection import train_test_split, cross_val_score\n",
    "from sklearn.metrics import mean_squared_error\n",
    "\n",
    "import seaborn as sn"
   ]
  },
  {
   "cell_type": "code",
   "execution_count": 5,
   "metadata": {},
   "outputs": [],
   "source": [
    "pd.options.display.max_columns = None"
   ]
  },
  {
   "cell_type": "code",
   "execution_count": 6,
   "metadata": {},
   "outputs": [],
   "source": [
    "#function to read and format csv file \n",
    "#input: file\n",
    "#output: df without NaNs, proper format\n",
    "\n",
    "def read_format(file):\n",
    "    df = pd.read_csv(file, header=1, parse_dates=True)\n",
    "    df = df.drop(df.tail(2).index)\n",
    "    df['Open Interest'].fillna(method='ffill', inplace=True)\n",
    "    \n",
    "    \n",
    "    return df"
   ]
  },
  {
   "cell_type": "code",
   "execution_count": 7,
   "metadata": {},
   "outputs": [],
   "source": [
    "file = r\"C:\\Users\\Matt\\Desktop\\eur_data.csv\""
   ]
  },
  {
   "cell_type": "code",
   "execution_count": 8,
   "metadata": {},
   "outputs": [
    {
     "data": {
      "text/html": [
       "<div>\n",
       "<style scoped>\n",
       "    .dataframe tbody tr th:only-of-type {\n",
       "        vertical-align: middle;\n",
       "    }\n",
       "\n",
       "    .dataframe tbody tr th {\n",
       "        vertical-align: top;\n",
       "    }\n",
       "\n",
       "    .dataframe thead th {\n",
       "        text-align: right;\n",
       "    }\n",
       "</style>\n",
       "<table border=\"1\" class=\"dataframe\">\n",
       "  <thead>\n",
       "    <tr style=\"text-align: right;\">\n",
       "      <th></th>\n",
       "      <th>Date Time</th>\n",
       "      <th>Symbol</th>\n",
       "      <th>Open</th>\n",
       "      <th>High</th>\n",
       "      <th>Low</th>\n",
       "      <th>Close</th>\n",
       "      <th>Change</th>\n",
       "      <th>Volume</th>\n",
       "      <th>Open Interest</th>\n",
       "    </tr>\n",
       "  </thead>\n",
       "  <tbody>\n",
       "    <tr>\n",
       "      <th>2481</th>\n",
       "      <td>11/1/2019</td>\n",
       "      <td>E6Z19</td>\n",
       "      <td>1.11840</td>\n",
       "      <td>1.12030</td>\n",
       "      <td>1.11585</td>\n",
       "      <td>1.11945</td>\n",
       "      <td>0.0018</td>\n",
       "      <td>180899.0</td>\n",
       "      <td>555262.0</td>\n",
       "    </tr>\n",
       "    <tr>\n",
       "      <th>2482</th>\n",
       "      <td>11/4/2019</td>\n",
       "      <td>E6Z19</td>\n",
       "      <td>1.11960</td>\n",
       "      <td>1.12055</td>\n",
       "      <td>1.11545</td>\n",
       "      <td>1.11575</td>\n",
       "      <td>-0.0037</td>\n",
       "      <td>151785.0</td>\n",
       "      <td>559143.0</td>\n",
       "    </tr>\n",
       "    <tr>\n",
       "      <th>2483</th>\n",
       "      <td>11/5/2019</td>\n",
       "      <td>E6Z19</td>\n",
       "      <td>1.11515</td>\n",
       "      <td>1.11690</td>\n",
       "      <td>1.10920</td>\n",
       "      <td>1.10935</td>\n",
       "      <td>-0.0064</td>\n",
       "      <td>191633.0</td>\n",
       "      <td>563336.0</td>\n",
       "    </tr>\n",
       "    <tr>\n",
       "      <th>2484</th>\n",
       "      <td>11/6/2019</td>\n",
       "      <td>E6Z19</td>\n",
       "      <td>1.11015</td>\n",
       "      <td>1.11210</td>\n",
       "      <td>1.10905</td>\n",
       "      <td>1.10965</td>\n",
       "      <td>0.0003</td>\n",
       "      <td>132915.0</td>\n",
       "      <td>563841.0</td>\n",
       "    </tr>\n",
       "    <tr>\n",
       "      <th>2485</th>\n",
       "      <td>11/7/2019</td>\n",
       "      <td>E6Z19</td>\n",
       "      <td>1.10935</td>\n",
       "      <td>1.11170</td>\n",
       "      <td>1.10610</td>\n",
       "      <td>1.10725</td>\n",
       "      <td>-0.0024</td>\n",
       "      <td>191169.0</td>\n",
       "      <td>563841.0</td>\n",
       "    </tr>\n",
       "  </tbody>\n",
       "</table>\n",
       "</div>"
      ],
      "text/plain": [
       "      Date Time Symbol     Open     High      Low    Close  Change    Volume  \\\n",
       "2481  11/1/2019  E6Z19  1.11840  1.12030  1.11585  1.11945  0.0018  180899.0   \n",
       "2482  11/4/2019  E6Z19  1.11960  1.12055  1.11545  1.11575 -0.0037  151785.0   \n",
       "2483  11/5/2019  E6Z19  1.11515  1.11690  1.10920  1.10935 -0.0064  191633.0   \n",
       "2484  11/6/2019  E6Z19  1.11015  1.11210  1.10905  1.10965  0.0003  132915.0   \n",
       "2485  11/7/2019  E6Z19  1.10935  1.11170  1.10610  1.10725 -0.0024  191169.0   \n",
       "\n",
       "      Open Interest  \n",
       "2481       555262.0  \n",
       "2482       559143.0  \n",
       "2483       563336.0  \n",
       "2484       563841.0  \n",
       "2485       563841.0  "
      ]
     },
     "execution_count": 8,
     "metadata": {},
     "output_type": "execute_result"
    }
   ],
   "source": [
    "og = read_format(file)\n",
    "og.tail()"
   ]
  },
  {
   "cell_type": "markdown",
   "metadata": {},
   "source": [
    "## Regress Forward Vol"
   ]
  },
  {
   "cell_type": "code",
   "execution_count": 9,
   "metadata": {},
   "outputs": [],
   "source": [
    "def process_forward_regress(dataframe1, dataframe2, dataframe3, dataframe4, predict_df, forward_vol_period):\n",
    "    \n",
    "    \n",
    "    dataframe1['abs_change'] = dataframe1['Change'].abs() / dataframe1['Close']\n",
    "    \n",
    "    dataframe1['high_move'] = (((dataframe1.High - dataframe1.Close.shift(1))/dataframe1['Close']).abs())\n",
    "    dataframe1['low_move'] = (((dataframe1.Low - dataframe1.Close.shift(1))/dataframe1['Close']).abs())\n",
    "    dataframe1['max_move'] = dataframe1[['high_move', 'low_move']].max(axis=1)\n",
    "    \n",
    "    \n",
    "    dataframe1['move_df1'] = dataframe1[['max_move', 'abs_change']].mean(axis=1)\n",
    "    dataframe1['backtothefuture'] = dataframe1.move_df1.rolling(window=forward_vol_period).mean()\n",
    "    dataframe1['for_vol_df1'] = dataframe1['backtothefuture'].shift(-forward_vol_period)\n",
    "    \n",
    "    \n",
    "    \n",
    "    dataframe2['abs_change'] = dataframe2['Change'].abs() / dataframe2['Close']\n",
    "    dataframe2['high_move'] = (((dataframe2.High - dataframe2.Close.shift(1))/dataframe2['Close']).abs())\n",
    "    dataframe2['low_move'] = (((dataframe2.Low - dataframe2.Close.shift(1))/dataframe2['Close']).abs())\n",
    "    dataframe2['max_move'] = dataframe2[['high_move', 'low_move']].max(axis=1)\n",
    "    \n",
    "    \n",
    "    dataframe2['move_df2'] = dataframe2[['max_move', 'abs_change']].mean(axis=1)\n",
    "    dataframe2['backtothefuture'] = dataframe2.move_df2.rolling(window=forward_vol_period).mean()\n",
    "    dataframe2['for_vol_df2'] = dataframe2['backtothefuture'].shift(-forward_vol_period)\n",
    "    \n",
    "    two_dataframe = pd.merge(dataframe1, dataframe2, on='Date Time')\n",
    "    \n",
    "    dataframe3['abs_change'] = dataframe3['Change'].abs() / dataframe3['Close']\n",
    "    dataframe3['high_move'] = (((dataframe3.High - dataframe3.Close.shift(1))/dataframe3['Close']).abs())\n",
    "    dataframe3['low_move'] = (((dataframe3.Low - dataframe3.Close.shift(1))/dataframe3['Close']).abs())\n",
    "    dataframe3['max_move'] = dataframe3[['high_move', 'low_move']].max(axis=1)\n",
    "    \n",
    "    \n",
    "    dataframe3['move_df3'] = dataframe3[['max_move', 'abs_change']].mean(axis=1)\n",
    "    dataframe3['backtothefuture'] = dataframe3.move_df3.rolling(window=forward_vol_period).mean()\n",
    "    dataframe3['for_vol_df3'] = dataframe3['backtothefuture'].shift(-forward_vol_period)\n",
    "    \n",
    "    \n",
    "    three_dataframe = pd.merge(two_dataframe, dataframe3, on='Date Time')\n",
    "    \n",
    "    dataframe4['abs_change'] = dataframe4['Change'].abs() / dataframe4['Close']\n",
    "    dataframe4['high_move'] = (((dataframe4.High - dataframe4.Close.shift(1))/dataframe4['Close']).abs())\n",
    "    dataframe4['low_move'] = (((dataframe4.Low - dataframe4.Close.shift(1))/dataframe4['Close']).abs())\n",
    "    dataframe4['max_move'] = dataframe4[['high_move', 'low_move']].max(axis=1)\n",
    "    \n",
    "    \n",
    "    dataframe4['move_df4'] = dataframe4[['max_move', 'abs_change']].mean(axis=1)\n",
    "    dataframe4['backtothefuture'] = dataframe4.move_df4.rolling(window=forward_vol_period).mean()\n",
    "    dataframe4['for_vol_df4'] = dataframe4['backtothefuture'].shift(-forward_vol_period)\n",
    "    \n",
    "    \n",
    "    four_dataframe = pd.merge(three_dataframe, dataframe4, on='Date Time')\n",
    "    \n",
    "    \n",
    "    \n",
    "    predict_df['abs_change'] = predict_df['Change'].abs() / predict_df['Close']\n",
    "    predict_df['high_move'] = (((predict_df.High - predict_df.Close.shift(1))/predict_df['Close']).abs())\n",
    "    predict_df['low_move'] = (((predict_df.Low - predict_df.Close.shift(1))/predict_df['Close']).abs())\n",
    "    predict_df['max_move'] = predict_df[['high_move', 'low_move']].max(axis=1)\n",
    "    \n",
    "    \n",
    "    predict_df['predict'] = predict_df[['max_move', 'abs_change']].mean(axis=1)\n",
    "    predict_df['backtothefuture'] = predict_df.predict.rolling(window=forward_vol_period).mean()\n",
    "    predict_df['for_vol_predict'] = predict_df['backtothefuture'].shift(-forward_vol_period)\n",
    "    \n",
    "    \n",
    "\n",
    "    five_dataframe = pd.merge(four_dataframe, predict_df, on='Date Time')\n",
    "    \n",
    "    dataframe = five_dataframe[[ \"Date Time\",\"move_df1\", \"move_df2\", \"move_df3\", \"move_df4\", \"predict\", \n",
    "                                'for_vol_df1', 'for_vol_df2', 'for_vol_df3', 'for_vol_df4', 'for_vol_predict']]\n",
    "    \n",
    "    dataframe = dataframe.dropna(how = 'any')\n",
    "    dataframe = dataframe.iloc[1:]\n",
    "    \n",
    "    \n",
    "    return dataframe "
   ]
  },
  {
   "cell_type": "code",
   "execution_count": 10,
   "metadata": {},
   "outputs": [],
   "source": [
    "file_one = r\"C:\\Users\\Matt\\Desktop\\jpy_data.csv\"\n",
    "file_two = r\"C:\\Users\\Matt\\Desktop\\eur_data.csv\"\n",
    "file_three = r\"C:\\Users\\Matt\\Desktop\\au_data.csv\"\n",
    "file_four = r\"C:\\Users\\Matt\\Desktop\\bp_data.csv\"\n",
    "file_five = r\"C:\\Users\\Matt\\Desktop\\ca_data.csv\""
   ]
  },
  {
   "cell_type": "code",
   "execution_count": 11,
   "metadata": {},
   "outputs": [],
   "source": [
    "jpy = read_format(file_one)\n",
    "eur = read_format(file_two)\n",
    "au =  read_format(file_three)\n",
    "bp =  read_format(file_four)\n",
    "ca =  read_format(file_five)"
   ]
  },
  {
   "cell_type": "code",
   "execution_count": 12,
   "metadata": {},
   "outputs": [
    {
     "data": {
      "text/html": [
       "<div>\n",
       "<style scoped>\n",
       "    .dataframe tbody tr th:only-of-type {\n",
       "        vertical-align: middle;\n",
       "    }\n",
       "\n",
       "    .dataframe tbody tr th {\n",
       "        vertical-align: top;\n",
       "    }\n",
       "\n",
       "    .dataframe thead th {\n",
       "        text-align: right;\n",
       "    }\n",
       "</style>\n",
       "<table border=\"1\" class=\"dataframe\">\n",
       "  <thead>\n",
       "    <tr style=\"text-align: right;\">\n",
       "      <th></th>\n",
       "      <th>Date Time</th>\n",
       "      <th>move_df1</th>\n",
       "      <th>move_df2</th>\n",
       "      <th>move_df3</th>\n",
       "      <th>move_df4</th>\n",
       "      <th>predict</th>\n",
       "      <th>for_vol_df1</th>\n",
       "      <th>for_vol_df2</th>\n",
       "      <th>for_vol_df3</th>\n",
       "      <th>for_vol_df4</th>\n",
       "      <th>for_vol_predict</th>\n",
       "    </tr>\n",
       "  </thead>\n",
       "  <tbody>\n",
       "    <tr>\n",
       "      <th>2461</th>\n",
       "      <td>10/4/2019</td>\n",
       "      <td>0.002713</td>\n",
       "      <td>0.001198</td>\n",
       "      <td>0.004054</td>\n",
       "      <td>0.003883</td>\n",
       "      <td>0.001676</td>\n",
       "      <td>0.003208</td>\n",
       "      <td>0.002810</td>\n",
       "      <td>0.004065</td>\n",
       "      <td>0.006952</td>\n",
       "      <td>0.002637</td>\n",
       "    </tr>\n",
       "    <tr>\n",
       "      <th>2462</th>\n",
       "      <td>10/7/2019</td>\n",
       "      <td>0.004994</td>\n",
       "      <td>0.001729</td>\n",
       "      <td>0.005706</td>\n",
       "      <td>0.003325</td>\n",
       "      <td>0.001519</td>\n",
       "      <td>0.003136</td>\n",
       "      <td>0.002758</td>\n",
       "      <td>0.003987</td>\n",
       "      <td>0.007011</td>\n",
       "      <td>0.002734</td>\n",
       "    </tr>\n",
       "    <tr>\n",
       "      <th>2463</th>\n",
       "      <td>10/8/2019</td>\n",
       "      <td>0.003146</td>\n",
       "      <td>0.001365</td>\n",
       "      <td>0.002076</td>\n",
       "      <td>0.007676</td>\n",
       "      <td>0.002339</td>\n",
       "      <td>0.003279</td>\n",
       "      <td>0.002769</td>\n",
       "      <td>0.004082</td>\n",
       "      <td>0.006705</td>\n",
       "      <td>0.002909</td>\n",
       "    </tr>\n",
       "    <tr>\n",
       "      <th>2464</th>\n",
       "      <td>10/9/2019</td>\n",
       "      <td>0.004525</td>\n",
       "      <td>0.001332</td>\n",
       "      <td>0.001706</td>\n",
       "      <td>0.003391</td>\n",
       "      <td>0.002313</td>\n",
       "      <td>0.003212</td>\n",
       "      <td>0.002819</td>\n",
       "      <td>0.004128</td>\n",
       "      <td>0.006673</td>\n",
       "      <td>0.002862</td>\n",
       "    </tr>\n",
       "    <tr>\n",
       "      <th>2465</th>\n",
       "      <td>10/10/2019</td>\n",
       "      <td>0.004246</td>\n",
       "      <td>0.003588</td>\n",
       "      <td>0.006052</td>\n",
       "      <td>0.019764</td>\n",
       "      <td>0.004048</td>\n",
       "      <td>0.003225</td>\n",
       "      <td>0.002689</td>\n",
       "      <td>0.004017</td>\n",
       "      <td>0.005874</td>\n",
       "      <td>0.002794</td>\n",
       "    </tr>\n",
       "  </tbody>\n",
       "</table>\n",
       "</div>"
      ],
      "text/plain": [
       "       Date Time  move_df1  move_df2  move_df3  move_df4   predict  \\\n",
       "2461   10/4/2019  0.002713  0.001198  0.004054  0.003883  0.001676   \n",
       "2462   10/7/2019  0.004994  0.001729  0.005706  0.003325  0.001519   \n",
       "2463   10/8/2019  0.003146  0.001365  0.002076  0.007676  0.002339   \n",
       "2464   10/9/2019  0.004525  0.001332  0.001706  0.003391  0.002313   \n",
       "2465  10/10/2019  0.004246  0.003588  0.006052  0.019764  0.004048   \n",
       "\n",
       "      for_vol_df1  for_vol_df2  for_vol_df3  for_vol_df4  for_vol_predict  \n",
       "2461     0.003208     0.002810     0.004065     0.006952         0.002637  \n",
       "2462     0.003136     0.002758     0.003987     0.007011         0.002734  \n",
       "2463     0.003279     0.002769     0.004082     0.006705         0.002909  \n",
       "2464     0.003212     0.002819     0.004128     0.006673         0.002862  \n",
       "2465     0.003225     0.002689     0.004017     0.005874         0.002794  "
      ]
     },
     "execution_count": 12,
     "metadata": {},
     "output_type": "execute_result"
    }
   ],
   "source": [
    "forward_test = process_forward_regress(jpy, ca, au, bp, eur, 20)\n",
    "forward_test.tail()"
   ]
  },
  {
   "cell_type": "code",
   "execution_count": 13,
   "metadata": {},
   "outputs": [],
   "source": [
    "last_forward_test = forward_test.tail(100)"
   ]
  },
  {
   "cell_type": "code",
   "execution_count": 14,
   "metadata": {},
   "outputs": [
    {
     "data": {
      "text/plain": [
       "<matplotlib.axes._subplots.AxesSubplot at 0xb978d30>"
      ]
     },
     "execution_count": 14,
     "metadata": {},
     "output_type": "execute_result"
    },
    {
     "data": {
      "image/png": "[encoded data removed]",
      "text/plain": [
       "<Figure size 432x288 with 2 Axes>"
      ]
     },
     "metadata": {},
     "output_type": "display_data"
    }
   ],
   "source": [
    "corrMatrix = last_forward_test.corr()\n",
    "sn.heatmap(corrMatrix, annot=True)"
   ]
  },
  {
   "cell_type": "code",
   "execution_count": 15,
   "metadata": {},
   "outputs": [
    {
     "name": "stdout",
     "output_type": "stream",
     "text": [
      "0.000139898873275179\n",
      "0.9109339324034276\n"
     ]
    }
   ],
   "source": [
    "x = last_forward_test[['for_vol_df1','for_vol_df2', 'for_vol_df3', 'for_vol_df4']].values\n",
    "y = last_forward_test['for_vol_predict'].values\n",
    "\n",
    "polynomial_features= PolynomialFeatures(degree=3)\n",
    "x_poly = polynomial_features.fit_transform(x)\n",
    "\n",
    "new_model = LinearRegression()\n",
    "new_model.fit(x_poly, y)\n",
    "y_poly_pred = new_model.predict(x_poly)\n",
    "\n",
    "rmse = np.sqrt(mean_squared_error(y,y_poly_pred))\n",
    "r2 = r2_score(y,y_poly_pred)\n",
    "print(rmse)\n",
    "print(r2)\n"
   ]
  },
  {
   "cell_type": "code",
   "execution_count": null,
   "metadata": {},
   "outputs": [],
   "source": []
  },
  {
   "cell_type": "code",
   "execution_count": null,
   "metadata": {},
   "outputs": [],
   "source": []
  },
  {
   "cell_type": "code",
   "execution_count": 18,
   "metadata": {},
   "outputs": [
    {
     "name": "stdout",
     "output_type": "stream",
     "text": [
      "Mean Absolute Error: 0.0002726908759903813\n",
      "Mean Squared Error: 1.1382563328547674e-07\n",
      "Root Mean Squared Error: 0.0003373805466909388\n",
      "R2: 0.5289987974491323\n"
     ]
    }
   ],
   "source": [
    "X = last_forward_test[['for_vol_df1','for_vol_df2', 'for_vol_df3', 'for_vol_df4']].values\n",
    "y = last_forward_test['for_vol_predict'].values\n",
    "X_train, X_test, y_train, y_test = train_test_split(X, y, test_size=0.2, random_state=0)\n",
    "regressor = LinearRegression()  \n",
    "regressor.fit(X_train, y_train)\n",
    "\n",
    "y_pred = regressor.predict(X_test)\n",
    "\n",
    "print('Mean Absolute Error:', metrics.mean_absolute_error(y_test, y_pred))  \n",
    "print('Mean Squared Error:', metrics.mean_squared_error(y_test, y_pred))  \n",
    "print('Root Mean Squared Error:', np.sqrt(metrics.mean_squared_error(y_test, y_pred)))\n",
    "print('R2:', regressor.score(X_test, y_test))"
   ]
  },
  {
   "cell_type": "code",
   "execution_count": 19,
   "metadata": {},
   "outputs": [],
   "source": [
    "last_row = last_forward_test.tail(1)"
   ]
  },
  {
   "cell_type": "code",
   "execution_count": 20,
   "metadata": {},
   "outputs": [
    {
     "data": {
      "text/plain": [
       "array([[0.00322496, 0.00268938, 0.00401701, 0.00587369]])"
      ]
     },
     "execution_count": 20,
     "metadata": {},
     "output_type": "execute_result"
    }
   ],
   "source": [
    "test_input = last_row[['for_vol_df1','for_vol_df2', 'for_vol_df3', 'for_vol_df4']].values\n",
    "test_input"
   ]
  },
  {
   "cell_type": "code",
   "execution_count": 21,
   "metadata": {},
   "outputs": [
    {
     "data": {
      "text/plain": [
       "array([0.00327663])"
      ]
     },
     "execution_count": 21,
     "metadata": {},
     "output_type": "execute_result"
    }
   ],
   "source": [
    "regressor.predict(test_input)"
   ]
  },
  {
   "cell_type": "code",
   "execution_count": 24,
   "metadata": {},
   "outputs": [
    {
     "ename": "ValueError",
     "evalue": "shapes (1,4) and (35,) not aligned: 4 (dim 1) != 35 (dim 0)",
     "output_type": "error",
     "traceback": [
      "\u001b[1;31m---------------------------------------------------------------------------\u001b[0m",
      "\u001b[1;31mValueError\u001b[0m                                Traceback (most recent call last)",
      "\u001b[1;32m<ipython-input-24-f58728eea118>\u001b[0m in \u001b[0;36m<module>\u001b[1;34m()\u001b[0m\n\u001b[1;32m----> 1\u001b[1;33m \u001b[0mnew_model\u001b[0m\u001b[1;33m.\u001b[0m\u001b[0mpredict\u001b[0m\u001b[1;33m(\u001b[0m\u001b[0mtest_input\u001b[0m\u001b[1;33m)\u001b[0m\u001b[1;33m\u001b[0m\u001b[0m\n\u001b[0m",
      "\u001b[1;32m~\\Anaconda3\\lib\\site-packages\\sklearn\\linear_model\\base.py\u001b[0m in \u001b[0;36mpredict\u001b[1;34m(self, X)\u001b[0m\n\u001b[0;32m    254\u001b[0m             \u001b[0mReturns\u001b[0m \u001b[0mpredicted\u001b[0m \u001b[0mvalues\u001b[0m\u001b[1;33m.\u001b[0m\u001b[1;33m\u001b[0m\u001b[0m\n\u001b[0;32m    255\u001b[0m         \"\"\"\n\u001b[1;32m--> 256\u001b[1;33m         \u001b[1;32mreturn\u001b[0m \u001b[0mself\u001b[0m\u001b[1;33m.\u001b[0m\u001b[0m_decision_function\u001b[0m\u001b[1;33m(\u001b[0m\u001b[0mX\u001b[0m\u001b[1;33m)\u001b[0m\u001b[1;33m\u001b[0m\u001b[0m\n\u001b[0m\u001b[0;32m    257\u001b[0m \u001b[1;33m\u001b[0m\u001b[0m\n\u001b[0;32m    258\u001b[0m     \u001b[0m_preprocess_data\u001b[0m \u001b[1;33m=\u001b[0m \u001b[0mstaticmethod\u001b[0m\u001b[1;33m(\u001b[0m\u001b[0m_preprocess_data\u001b[0m\u001b[1;33m)\u001b[0m\u001b[1;33m\u001b[0m\u001b[0m\n",
      "\u001b[1;32m~\\Anaconda3\\lib\\site-packages\\sklearn\\linear_model\\base.py\u001b[0m in \u001b[0;36m_decision_function\u001b[1;34m(self, X)\u001b[0m\n\u001b[0;32m    239\u001b[0m         \u001b[0mX\u001b[0m \u001b[1;33m=\u001b[0m \u001b[0mcheck_array\u001b[0m\u001b[1;33m(\u001b[0m\u001b[0mX\u001b[0m\u001b[1;33m,\u001b[0m \u001b[0maccept_sparse\u001b[0m\u001b[1;33m=\u001b[0m\u001b[1;33m[\u001b[0m\u001b[1;34m'csr'\u001b[0m\u001b[1;33m,\u001b[0m \u001b[1;34m'csc'\u001b[0m\u001b[1;33m,\u001b[0m \u001b[1;34m'coo'\u001b[0m\u001b[1;33m]\u001b[0m\u001b[1;33m)\u001b[0m\u001b[1;33m\u001b[0m\u001b[0m\n\u001b[0;32m    240\u001b[0m         return safe_sparse_dot(X, self.coef_.T,\n\u001b[1;32m--> 241\u001b[1;33m                                dense_output=True) + self.intercept_\n\u001b[0m\u001b[0;32m    242\u001b[0m \u001b[1;33m\u001b[0m\u001b[0m\n\u001b[0;32m    243\u001b[0m     \u001b[1;32mdef\u001b[0m \u001b[0mpredict\u001b[0m\u001b[1;33m(\u001b[0m\u001b[0mself\u001b[0m\u001b[1;33m,\u001b[0m \u001b[0mX\u001b[0m\u001b[1;33m)\u001b[0m\u001b[1;33m:\u001b[0m\u001b[1;33m\u001b[0m\u001b[0m\n",
      "\u001b[1;32m~\\Anaconda3\\lib\\site-packages\\sklearn\\utils\\extmath.py\u001b[0m in \u001b[0;36msafe_sparse_dot\u001b[1;34m(a, b, dense_output)\u001b[0m\n\u001b[0;32m    138\u001b[0m         \u001b[1;32mreturn\u001b[0m \u001b[0mret\u001b[0m\u001b[1;33m\u001b[0m\u001b[0m\n\u001b[0;32m    139\u001b[0m     \u001b[1;32melse\u001b[0m\u001b[1;33m:\u001b[0m\u001b[1;33m\u001b[0m\u001b[0m\n\u001b[1;32m--> 140\u001b[1;33m         \u001b[1;32mreturn\u001b[0m \u001b[0mnp\u001b[0m\u001b[1;33m.\u001b[0m\u001b[0mdot\u001b[0m\u001b[1;33m(\u001b[0m\u001b[0ma\u001b[0m\u001b[1;33m,\u001b[0m \u001b[0mb\u001b[0m\u001b[1;33m)\u001b[0m\u001b[1;33m\u001b[0m\u001b[0m\n\u001b[0m\u001b[0;32m    141\u001b[0m \u001b[1;33m\u001b[0m\u001b[0m\n\u001b[0;32m    142\u001b[0m \u001b[1;33m\u001b[0m\u001b[0m\n",
      "\u001b[1;31mValueError\u001b[0m: shapes (1,4) and (35,) not aligned: 4 (dim 1) != 35 (dim 0)"
     ]
    }
   ],
   "source": [
    "new_model.predict(test_input)"
   ]
  },
  {
   "cell_type": "code",
   "execution_count": null,
   "metadata": {},
   "outputs": [],
   "source": []
  }
 ],
 "metadata": {
  "kernelspec": {
   "display_name": "Python 3",
   "language": "python",
   "name": "python3"
  },
  "language_info": {
   "codemirror_mode": {
    "name": "ipython",
    "version": 3
   },
   "file_extension": ".py",
   "mimetype": "text/x-python",
   "name": "python",
   "nbconvert_exporter": "python",
   "pygments_lexer": "ipython3",
   "version": "3.6.5"
  }
 },
 "nbformat": 4,
 "nbformat_minor": 2
}
