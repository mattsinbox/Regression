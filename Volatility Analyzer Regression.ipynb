{
 "cells": [
  {
   "cell_type": "code",
   "execution_count": 1,
   "metadata": {},
   "outputs": [],
   "source": [
    "#import libraries \n",
    "import pandas as pd\n",
    "import numpy as np\n",
    "\n",
    "from IPython.display import display # Allows the use of display() for DataFrames\n",
    "\n",
    "\n",
    "import matplotlib.mlab as mlab\n",
    "import matplotlib.pyplot as plt\n",
    "\n",
    "# Pretty display for notebooks\n",
    "%matplotlib inline\n",
    "\n",
    "import seaborn as sns\n",
    "\n",
    "from sklearn.model_selection import train_test_split\n",
    "\n",
    "from datetime import datetime, timedelta\n",
    "\n",
    "import random\n",
    "from random import sample \n",
    "\n",
    "# Import the classifier from sklearn\n",
    "from sklearn.tree import DecisionTreeClassifier\n",
    "\n",
    "from sklearn.metrics import accuracy_score, precision_score, recall_score, f1_score\n",
    "\n",
    "from sklearn.metrics import precision_recall_fscore_support"
   ]
  },
  {
   "cell_type": "code",
   "execution_count": 2,
   "metadata": {},
   "outputs": [],
   "source": [
    "import pandas as pd  \n",
    "import numpy as np  \n",
    "import matplotlib.pyplot as plt  \n",
    "import seaborn as seabornInstance \n",
    "from sklearn.model_selection import train_test_split \n",
    "from sklearn.linear_model import LinearRegression\n",
    "from sklearn import metrics\n",
    "%matplotlib inline"
   ]
  },
  {
   "cell_type": "code",
   "execution_count": 3,
   "metadata": {},
   "outputs": [],
   "source": [
    "from sklearn.metrics import r2_score"
   ]
  },
  {
   "cell_type": "code",
   "execution_count": 4,
   "metadata": {},
   "outputs": [],
   "source": [
    "#imports from sklearn library\n",
    "\n",
    "from sklearn import datasets\n",
    "from sklearn.linear_model import LinearRegression\n",
    "from sklearn.preprocessing import PolynomialFeatures\n",
    "from sklearn.model_selection import train_test_split, cross_val_score\n",
    "from sklearn.metrics import mean_squared_error\n",
    "\n",
    "import seaborn as sn"
   ]
  },
  {
   "cell_type": "code",
   "execution_count": 5,
   "metadata": {},
   "outputs": [],
   "source": [
    "pd.options.display.max_columns = None"
   ]
  },
  {
   "cell_type": "code",
   "execution_count": 6,
   "metadata": {},
   "outputs": [],
   "source": [
    "#function to read and format csv file \n",
    "#input: file\n",
    "#output: df without NaNs, proper format\n",
    "\n",
    "def read_format(file):\n",
    "    df = pd.read_csv(file, header=1, parse_dates=True)\n",
    "    df = df.drop(df.tail(2).index)\n",
    "    df['Open Interest'].fillna(method='ffill', inplace=True)\n",
    "    \n",
    "    \n",
    "    return df"
   ]
  },
  {
   "cell_type": "code",
   "execution_count": 7,
   "metadata": {},
   "outputs": [],
   "source": [
    "file = r\"C:\\Users\\Matt\\Desktop\\eur_data.csv\""
   ]
  },
  {
   "cell_type": "code",
   "execution_count": 8,
   "metadata": {},
   "outputs": [],
   "source": [
    "'''\n",
    "    Objective: Convert annualized volatility to a rate\n",
    "    INPUT:\n",
    "    vol -    the annualized volatility rate or annualized standard deviation in percentage terms\n",
    "    period - number of trading periods in a year, traders usually \n",
    "             look for a daily rate since they manage their positions \n",
    "             daily.  There are 255 trading days in a year, so that is the default period\n",
    "    \n",
    "    OUTPUT:\n",
    "    rate - percentage rate for a one standard deviation move in a given period\n",
    "'''\n",
    "def vol_convert(vol, period = 255):\n",
    "    rate = round(vol/((np.sqrt(period)*100)),6)\n",
    "    return rate"
   ]
  },
  {
   "cell_type": "code",
   "execution_count": 9,
   "metadata": {},
   "outputs": [],
   "source": [
    "def rate_convert(rate, period = 255):\n",
    "    vol = round((rate*100*(np.sqrt(period))),2)\n",
    "    \n",
    "    return vol"
   ]
  },
  {
   "cell_type": "code",
   "execution_count": 10,
   "metadata": {},
   "outputs": [
    {
     "data": {
      "text/html": [
       "<div>\n",
       "<style scoped>\n",
       "    .dataframe tbody tr th:only-of-type {\n",
       "        vertical-align: middle;\n",
       "    }\n",
       "\n",
       "    .dataframe tbody tr th {\n",
       "        vertical-align: top;\n",
       "    }\n",
       "\n",
       "    .dataframe thead th {\n",
       "        text-align: right;\n",
       "    }\n",
       "</style>\n",
       "<table border=\"1\" class=\"dataframe\">\n",
       "  <thead>\n",
       "    <tr style=\"text-align: right;\">\n",
       "      <th></th>\n",
       "      <th>Date Time</th>\n",
       "      <th>Symbol</th>\n",
       "      <th>Open</th>\n",
       "      <th>High</th>\n",
       "      <th>Low</th>\n",
       "      <th>Close</th>\n",
       "      <th>Change</th>\n",
       "      <th>Volume</th>\n",
       "      <th>Open Interest</th>\n",
       "    </tr>\n",
       "  </thead>\n",
       "  <tbody>\n",
       "    <tr>\n",
       "      <th>2493</th>\n",
       "      <td>11/19/2019</td>\n",
       "      <td>E6Z19</td>\n",
       "      <td>1.10900</td>\n",
       "      <td>1.11020</td>\n",
       "      <td>1.10810</td>\n",
       "      <td>1.10965</td>\n",
       "      <td>0.00025</td>\n",
       "      <td>114016.0</td>\n",
       "      <td>577689.0</td>\n",
       "    </tr>\n",
       "    <tr>\n",
       "      <th>2494</th>\n",
       "      <td>11/20/2019</td>\n",
       "      <td>E6Z19</td>\n",
       "      <td>1.10945</td>\n",
       "      <td>1.10990</td>\n",
       "      <td>1.10705</td>\n",
       "      <td>1.10870</td>\n",
       "      <td>-0.00095</td>\n",
       "      <td>161752.0</td>\n",
       "      <td>581146.0</td>\n",
       "    </tr>\n",
       "    <tr>\n",
       "      <th>2495</th>\n",
       "      <td>11/21/2019</td>\n",
       "      <td>E6Z19</td>\n",
       "      <td>1.10915</td>\n",
       "      <td>1.11130</td>\n",
       "      <td>1.10670</td>\n",
       "      <td>1.10745</td>\n",
       "      <td>-0.00125</td>\n",
       "      <td>150437.0</td>\n",
       "      <td>579803.0</td>\n",
       "    </tr>\n",
       "    <tr>\n",
       "      <th>2496</th>\n",
       "      <td>11/22/2019</td>\n",
       "      <td>E6Z19</td>\n",
       "      <td>1.10760</td>\n",
       "      <td>1.11115</td>\n",
       "      <td>1.10290</td>\n",
       "      <td>1.10355</td>\n",
       "      <td>-0.00390</td>\n",
       "      <td>169562.0</td>\n",
       "      <td>580744.0</td>\n",
       "    </tr>\n",
       "    <tr>\n",
       "      <th>2497</th>\n",
       "      <td>11/25/2019</td>\n",
       "      <td>E6Z19</td>\n",
       "      <td>1.10355</td>\n",
       "      <td>1.10470</td>\n",
       "      <td>1.10175</td>\n",
       "      <td>1.10235</td>\n",
       "      <td>-0.00120</td>\n",
       "      <td>138905.0</td>\n",
       "      <td>580744.0</td>\n",
       "    </tr>\n",
       "  </tbody>\n",
       "</table>\n",
       "</div>"
      ],
      "text/plain": [
       "       Date Time Symbol     Open     High      Low    Close   Change  \\\n",
       "2493  11/19/2019  E6Z19  1.10900  1.11020  1.10810  1.10965  0.00025   \n",
       "2494  11/20/2019  E6Z19  1.10945  1.10990  1.10705  1.10870 -0.00095   \n",
       "2495  11/21/2019  E6Z19  1.10915  1.11130  1.10670  1.10745 -0.00125   \n",
       "2496  11/22/2019  E6Z19  1.10760  1.11115  1.10290  1.10355 -0.00390   \n",
       "2497  11/25/2019  E6Z19  1.10355  1.10470  1.10175  1.10235 -0.00120   \n",
       "\n",
       "        Volume  Open Interest  \n",
       "2493  114016.0       577689.0  \n",
       "2494  161752.0       581146.0  \n",
       "2495  150437.0       579803.0  \n",
       "2496  169562.0       580744.0  \n",
       "2497  138905.0       580744.0  "
      ]
     },
     "execution_count": 10,
     "metadata": {},
     "output_type": "execute_result"
    }
   ],
   "source": [
    "og = read_format(file)\n",
    "og.tail()"
   ]
  },
  {
   "cell_type": "markdown",
   "metadata": {},
   "source": [
    "## Regress Forward Vol"
   ]
  },
  {
   "cell_type": "code",
   "execution_count": 11,
   "metadata": {},
   "outputs": [],
   "source": [
    "def process_forward_regress(dataframe1, dataframe2, dataframe3, dataframe4, predict_df, forward_vol_period):\n",
    "    \n",
    "    \n",
    "    dataframe1['abs_change'] = dataframe1['Change'].abs() / dataframe1['Close']\n",
    "    \n",
    "    dataframe1['high_move'] = (((dataframe1.High - dataframe1.Close.shift(1))/dataframe1['Close']).abs())\n",
    "    dataframe1['low_move'] = (((dataframe1.Low - dataframe1.Close.shift(1))/dataframe1['Close']).abs())\n",
    "    dataframe1['max_move'] = dataframe1[['high_move', 'low_move']].max(axis=1)\n",
    "    \n",
    "    \n",
    "    dataframe1['move_df1'] = dataframe1[['max_move', 'abs_change']].mean(axis=1)\n",
    "    dataframe1['backtothefuture'] = dataframe1.move_df1.rolling(window=forward_vol_period).mean()\n",
    "    dataframe1['for_vol_df1'] = dataframe1['backtothefuture'].shift(-forward_vol_period)\n",
    "    \n",
    "    \n",
    "    \n",
    "    dataframe2['abs_change'] = dataframe2['Change'].abs() / dataframe2['Close']\n",
    "    dataframe2['high_move'] = (((dataframe2.High - dataframe2.Close.shift(1))/dataframe2['Close']).abs())\n",
    "    dataframe2['low_move'] = (((dataframe2.Low - dataframe2.Close.shift(1))/dataframe2['Close']).abs())\n",
    "    dataframe2['max_move'] = dataframe2[['high_move', 'low_move']].max(axis=1)\n",
    "    \n",
    "    \n",
    "    dataframe2['move_df2'] = dataframe2[['max_move', 'abs_change']].mean(axis=1)\n",
    "    dataframe2['backtothefuture'] = dataframe2.move_df2.rolling(window=forward_vol_period).mean()\n",
    "    dataframe2['for_vol_df2'] = dataframe2['backtothefuture'].shift(-forward_vol_period)\n",
    "    \n",
    "    two_dataframe = pd.merge(dataframe1, dataframe2, on='Date Time')\n",
    "    \n",
    "    dataframe3['abs_change'] = dataframe3['Change'].abs() / dataframe3['Close']\n",
    "    dataframe3['high_move'] = (((dataframe3.High - dataframe3.Close.shift(1))/dataframe3['Close']).abs())\n",
    "    dataframe3['low_move'] = (((dataframe3.Low - dataframe3.Close.shift(1))/dataframe3['Close']).abs())\n",
    "    dataframe3['max_move'] = dataframe3[['high_move', 'low_move']].max(axis=1)\n",
    "    \n",
    "    \n",
    "    dataframe3['move_df3'] = dataframe3[['max_move', 'abs_change']].mean(axis=1)\n",
    "    dataframe3['backtothefuture'] = dataframe3.move_df3.rolling(window=forward_vol_period).mean()\n",
    "    dataframe3['for_vol_df3'] = dataframe3['backtothefuture'].shift(-forward_vol_period)\n",
    "    \n",
    "    \n",
    "    three_dataframe = pd.merge(two_dataframe, dataframe3, on='Date Time')\n",
    "    \n",
    "    dataframe4['abs_change'] = dataframe4['Change'].abs() / dataframe4['Close']\n",
    "    dataframe4['high_move'] = (((dataframe4.High - dataframe4.Close.shift(1))/dataframe4['Close']).abs())\n",
    "    dataframe4['low_move'] = (((dataframe4.Low - dataframe4.Close.shift(1))/dataframe4['Close']).abs())\n",
    "    dataframe4['max_move'] = dataframe4[['high_move', 'low_move']].max(axis=1)\n",
    "    \n",
    "    \n",
    "    dataframe4['move_df4'] = dataframe4[['max_move', 'abs_change']].mean(axis=1)\n",
    "    dataframe4['backtothefuture'] = dataframe4.move_df4.rolling(window=forward_vol_period).mean()\n",
    "    dataframe4['for_vol_df4'] = dataframe4['backtothefuture'].shift(-forward_vol_period)\n",
    "    \n",
    "    \n",
    "    four_dataframe = pd.merge(three_dataframe, dataframe4, on='Date Time')\n",
    "    \n",
    "    \n",
    "    \n",
    "    predict_df['abs_change'] = predict_df['Change'].abs() / predict_df['Close']\n",
    "    predict_df['high_move'] = (((predict_df.High - predict_df.Close.shift(1))/predict_df['Close']).abs())\n",
    "    predict_df['low_move'] = (((predict_df.Low - predict_df.Close.shift(1))/predict_df['Close']).abs())\n",
    "    predict_df['max_move'] = predict_df[['high_move', 'low_move']].max(axis=1)\n",
    "    \n",
    "    \n",
    "    predict_df['predict'] = predict_df[['max_move', 'abs_change']].mean(axis=1)\n",
    "    predict_df['backtothefuture'] = predict_df.predict.rolling(window=forward_vol_period).mean()\n",
    "    predict_df['for_vol_predict'] = predict_df['backtothefuture'].shift(-forward_vol_period)\n",
    "    \n",
    "    \n",
    "\n",
    "    five_dataframe = pd.merge(four_dataframe, predict_df, on='Date Time')\n",
    "    \n",
    "    dataframe = five_dataframe[[ \"Date Time\",\"move_df1\", \"move_df2\", \"move_df3\", \"move_df4\", \"predict\", \n",
    "                                'for_vol_df1', 'for_vol_df2', 'for_vol_df3', 'for_vol_df4', 'for_vol_predict']]\n",
    "    \n",
    "    dataframe = dataframe.dropna(how = 'any')\n",
    "    dataframe = dataframe.iloc[1:]\n",
    "    \n",
    "    \n",
    "    return dataframe "
   ]
  },
  {
   "cell_type": "code",
   "execution_count": 12,
   "metadata": {},
   "outputs": [],
   "source": [
    "file_one = r\"C:\\Users\\Matt\\Desktop\\jpy_data.csv\"\n",
    "file_two = r\"C:\\Users\\Matt\\Desktop\\eur_data.csv\"\n",
    "file_three = r\"C:\\Users\\Matt\\Desktop\\au_data.csv\"\n",
    "file_four = r\"C:\\Users\\Matt\\Desktop\\bp_data.csv\"\n",
    "file_five = r\"C:\\Users\\Matt\\Desktop\\ca_data.csv\""
   ]
  },
  {
   "cell_type": "code",
   "execution_count": 13,
   "metadata": {},
   "outputs": [],
   "source": [
    "jpy = read_format(file_one)\n",
    "eur = read_format(file_two)\n",
    "au =  read_format(file_three)\n",
    "bp =  read_format(file_four)\n",
    "ca =  read_format(file_five)"
   ]
  },
  {
   "cell_type": "code",
   "execution_count": 14,
   "metadata": {},
   "outputs": [
    {
     "data": {
      "text/html": [
       "<div>\n",
       "<style scoped>\n",
       "    .dataframe tbody tr th:only-of-type {\n",
       "        vertical-align: middle;\n",
       "    }\n",
       "\n",
       "    .dataframe tbody tr th {\n",
       "        vertical-align: top;\n",
       "    }\n",
       "\n",
       "    .dataframe thead th {\n",
       "        text-align: right;\n",
       "    }\n",
       "</style>\n",
       "<table border=\"1\" class=\"dataframe\">\n",
       "  <thead>\n",
       "    <tr style=\"text-align: right;\">\n",
       "      <th></th>\n",
       "      <th>Date Time</th>\n",
       "      <th>move_df1</th>\n",
       "      <th>move_df2</th>\n",
       "      <th>move_df3</th>\n",
       "      <th>move_df4</th>\n",
       "      <th>predict</th>\n",
       "      <th>for_vol_df1</th>\n",
       "      <th>for_vol_df2</th>\n",
       "      <th>for_vol_df3</th>\n",
       "      <th>for_vol_df4</th>\n",
       "      <th>for_vol_predict</th>\n",
       "    </tr>\n",
       "  </thead>\n",
       "  <tbody>\n",
       "    <tr>\n",
       "      <th>2472</th>\n",
       "      <td>10/21/2019</td>\n",
       "      <td>0.001786</td>\n",
       "      <td>0.002910</td>\n",
       "      <td>0.002764</td>\n",
       "      <td>0.003694</td>\n",
       "      <td>0.001765</td>\n",
       "      <td>0.003044</td>\n",
       "      <td>0.002074</td>\n",
       "      <td>0.003586</td>\n",
       "      <td>0.003650</td>\n",
       "      <td>0.002409</td>\n",
       "    </tr>\n",
       "    <tr>\n",
       "      <th>2473</th>\n",
       "      <td>10/22/2019</td>\n",
       "      <td>0.001378</td>\n",
       "      <td>0.001866</td>\n",
       "      <td>0.002112</td>\n",
       "      <td>0.007516</td>\n",
       "      <td>0.002351</td>\n",
       "      <td>0.003044</td>\n",
       "      <td>0.002215</td>\n",
       "      <td>0.003634</td>\n",
       "      <td>0.003446</td>\n",
       "      <td>0.002326</td>\n",
       "    </tr>\n",
       "    <tr>\n",
       "      <th>2474</th>\n",
       "      <td>10/23/2019</td>\n",
       "      <td>0.002302</td>\n",
       "      <td>0.001895</td>\n",
       "      <td>0.001530</td>\n",
       "      <td>0.002514</td>\n",
       "      <td>0.001007</td>\n",
       "      <td>0.003001</td>\n",
       "      <td>0.002310</td>\n",
       "      <td>0.003808</td>\n",
       "      <td>0.003386</td>\n",
       "      <td>0.002356</td>\n",
       "    </tr>\n",
       "    <tr>\n",
       "      <th>2475</th>\n",
       "      <td>10/24/2019</td>\n",
       "      <td>0.000731</td>\n",
       "      <td>0.001078</td>\n",
       "      <td>0.005269</td>\n",
       "      <td>0.006247</td>\n",
       "      <td>0.002714</td>\n",
       "      <td>0.003054</td>\n",
       "      <td>0.002398</td>\n",
       "      <td>0.003655</td>\n",
       "      <td>0.003206</td>\n",
       "      <td>0.002307</td>\n",
       "    </tr>\n",
       "    <tr>\n",
       "      <th>2476</th>\n",
       "      <td>10/25/2019</td>\n",
       "      <td>0.001138</td>\n",
       "      <td>0.000979</td>\n",
       "      <td>0.001391</td>\n",
       "      <td>0.003852</td>\n",
       "      <td>0.002968</td>\n",
       "      <td>0.003043</td>\n",
       "      <td>0.002429</td>\n",
       "      <td>0.003659</td>\n",
       "      <td>0.003311</td>\n",
       "      <td>0.002350</td>\n",
       "    </tr>\n",
       "  </tbody>\n",
       "</table>\n",
       "</div>"
      ],
      "text/plain": [
       "       Date Time  move_df1  move_df2  move_df3  move_df4   predict  \\\n",
       "2472  10/21/2019  0.001786  0.002910  0.002764  0.003694  0.001765   \n",
       "2473  10/22/2019  0.001378  0.001866  0.002112  0.007516  0.002351   \n",
       "2474  10/23/2019  0.002302  0.001895  0.001530  0.002514  0.001007   \n",
       "2475  10/24/2019  0.000731  0.001078  0.005269  0.006247  0.002714   \n",
       "2476  10/25/2019  0.001138  0.000979  0.001391  0.003852  0.002968   \n",
       "\n",
       "      for_vol_df1  for_vol_df2  for_vol_df3  for_vol_df4  for_vol_predict  \n",
       "2472     0.003044     0.002074     0.003586     0.003650         0.002409  \n",
       "2473     0.003044     0.002215     0.003634     0.003446         0.002326  \n",
       "2474     0.003001     0.002310     0.003808     0.003386         0.002356  \n",
       "2475     0.003054     0.002398     0.003655     0.003206         0.002307  \n",
       "2476     0.003043     0.002429     0.003659     0.003311         0.002350  "
      ]
     },
     "execution_count": 14,
     "metadata": {},
     "output_type": "execute_result"
    }
   ],
   "source": [
    "forward_test = process_forward_regress(jpy, ca, au, bp, eur, 20)\n",
    "forward_test.tail()"
   ]
  },
  {
   "cell_type": "code",
   "execution_count": 15,
   "metadata": {},
   "outputs": [],
   "source": [
    "last_forward_test = forward_test.tail(300)"
   ]
  },
  {
   "cell_type": "code",
   "execution_count": 16,
   "metadata": {},
   "outputs": [
    {
     "data": {
      "text/plain": [
       "<matplotlib.axes._subplots.AxesSubplot at 0xb7d0588>"
      ]
     },
     "execution_count": 16,
     "metadata": {},
     "output_type": "execute_result"
    },
    {
     "data": {
      "image/png": "[encoded data removed]",
      "text/plain": [
       "<Figure size 432x288 with 2 Axes>"
      ]
     },
     "metadata": {},
     "output_type": "display_data"
    }
   ],
   "source": [
    "corrMatrix = last_forward_test.corr()\n",
    "sn.heatmap(corrMatrix, annot=True)"
   ]
  },
  {
   "cell_type": "code",
   "execution_count": 17,
   "metadata": {},
   "outputs": [
    {
     "name": "stdout",
     "output_type": "stream",
     "text": [
      "0.00037839658792499696\n",
      "0.7484829071991068\n"
     ]
    }
   ],
   "source": [
    "x = last_forward_test[['for_vol_df1','for_vol_df2', 'for_vol_df3', 'for_vol_df4']].values\n",
    "y = last_forward_test['for_vol_predict'].values\n",
    "\n",
    "polynomial_features= PolynomialFeatures(degree=2)\n",
    "x_poly = polynomial_features.fit_transform(x)\n",
    "\n",
    "new_model = LinearRegression()\n",
    "new_model.fit(x_poly, y)\n",
    "y_poly_pred = new_model.predict(x_poly)\n",
    "\n",
    "rmse = np.sqrt(mean_squared_error(y,y_poly_pred))\n",
    "r2 = r2_score(y,y_poly_pred)\n",
    "print(rmse)\n",
    "print(r2)\n"
   ]
  },
  {
   "cell_type": "code",
   "execution_count": 18,
   "metadata": {},
   "outputs": [
    {
     "data": {
      "text/plain": [
       "0.61"
      ]
     },
     "execution_count": 18,
     "metadata": {},
     "output_type": "execute_result"
    }
   ],
   "source": [
    "rate_convert(.00038)"
   ]
  },
  {
   "cell_type": "code",
   "execution_count": null,
   "metadata": {},
   "outputs": [],
   "source": []
  },
  {
   "cell_type": "code",
   "execution_count": 19,
   "metadata": {},
   "outputs": [
    {
     "name": "stdout",
     "output_type": "stream",
     "text": [
      "Mean Absolute Error: 0.000318035223010997\n",
      "Mean Squared Error: 1.7071432191084923e-07\n",
      "Root Mean Squared Error: 0.0004131758970594113\n",
      "R2: 0.7109884777689814\n"
     ]
    }
   ],
   "source": [
    "X = last_forward_test[['for_vol_df1','for_vol_df2', 'for_vol_df3', 'for_vol_df4']].values\n",
    "y = last_forward_test['for_vol_predict'].values\n",
    "X_train, X_test, y_train, y_test = train_test_split(X, y, test_size=0.2, random_state=0)\n",
    "regressor = LinearRegression()  \n",
    "regressor.fit(X_train, y_train)\n",
    "\n",
    "y_pred = regressor.predict(X_test)\n",
    "\n",
    "print('Mean Absolute Error:', metrics.mean_absolute_error(y_test, y_pred))  \n",
    "print('Mean Squared Error:', metrics.mean_squared_error(y_test, y_pred))  \n",
    "print('Root Mean Squared Error:', np.sqrt(metrics.mean_squared_error(y_test, y_pred)))\n",
    "print('R2:', regressor.score(X_test, y_test))"
   ]
  },
  {
   "cell_type": "code",
   "execution_count": 20,
   "metadata": {},
   "outputs": [],
   "source": [
    "last_row = last_forward_test.tail(1)"
   ]
  },
  {
   "cell_type": "code",
   "execution_count": 21,
   "metadata": {},
   "outputs": [
    {
     "data": {
      "text/plain": [
       "array([[0.00304335, 0.00242915, 0.003659  , 0.00331093]])"
      ]
     },
     "execution_count": 21,
     "metadata": {},
     "output_type": "execute_result"
    }
   ],
   "source": [
    "test_input = last_row[['for_vol_df1','for_vol_df2', 'for_vol_df3', 'for_vol_df4']].values\n",
    "test_input"
   ]
  },
  {
   "cell_type": "code",
   "execution_count": 22,
   "metadata": {},
   "outputs": [
    {
     "data": {
      "text/plain": [
       "array([0.00231072])"
      ]
     },
     "execution_count": 22,
     "metadata": {},
     "output_type": "execute_result"
    }
   ],
   "source": [
    "regressor.predict(test_input)"
   ]
  },
  {
   "cell_type": "code",
   "execution_count": 23,
   "metadata": {},
   "outputs": [
    {
     "data": {
      "text/plain": [
       "<function __main__.rate_convert(rate, period=255)>"
      ]
     },
     "execution_count": 23,
     "metadata": {},
     "output_type": "execute_result"
    }
   ],
   "source": [
    "rate_convert"
   ]
  },
  {
   "cell_type": "code",
   "execution_count": 24,
   "metadata": {},
   "outputs": [
    {
     "data": {
      "text/plain": [
       "array([0.0024671])"
      ]
     },
     "execution_count": 24,
     "metadata": {},
     "output_type": "execute_result"
    }
   ],
   "source": [
    "polynomial_features=PolynomialFeatures(degree=2)\n",
    "x_test_poly = polynomial_features.fit_transform(test_input)\n",
    "new_model.predict(x_test_poly)"
   ]
  },
  {
   "cell_type": "code",
   "execution_count": 25,
   "metadata": {},
   "outputs": [
    {
     "data": {
      "text/plain": [
       "array([0.0024671])"
      ]
     },
     "execution_count": 25,
     "metadata": {},
     "output_type": "execute_result"
    }
   ],
   "source": [
    "polynomial_features=PolynomialFeatures(degree=2)\n",
    "x_test_poly = polynomial_features.fit_transform(test_input)\n",
    "new_model.predict(x_test_poly)"
   ]
  },
  {
   "cell_type": "code",
   "execution_count": 26,
   "metadata": {},
   "outputs": [
    {
     "data": {
      "text/plain": [
       "4.5"
      ]
     },
     "execution_count": 26,
     "metadata": {},
     "output_type": "execute_result"
    }
   ],
   "source": [
    "rate_convert(.0028171753)"
   ]
  },
  {
   "cell_type": "code",
   "execution_count": 27,
   "metadata": {},
   "outputs": [],
   "source": [
    "eu_vol = vol_convert(4.25)\n",
    "jpy_vol = vol_convert(4.75)\n",
    "bp_vol = vol_convert(7)\n",
    "au_vol = vol_convert(4.47)\n",
    "ca_vol = vol_convert(4)"
   ]
  },
  {
   "cell_type": "code",
   "execution_count": 28,
   "metadata": {},
   "outputs": [
    {
     "name": "stdout",
     "output_type": "stream",
     "text": [
      "0.002661\n",
      "0.002975\n",
      "0.004384\n",
      "0.002799\n",
      "0.002505\n"
     ]
    }
   ],
   "source": [
    "print(eu_vol)\n",
    "print(jpy_vol)\n",
    "print(bp_vol)\n",
    "print(au_vol)\n",
    "print(ca_vol)"
   ]
  },
  {
   "cell_type": "code",
   "execution_count": 29,
   "metadata": {},
   "outputs": [],
   "source": [
    "newest_test = [[jpy_vol, ca_vol, au_vol, bp_vol]]"
   ]
  },
  {
   "cell_type": "code",
   "execution_count": 30,
   "metadata": {},
   "outputs": [
    {
     "data": {
      "text/plain": [
       "array([0.00299304])"
      ]
     },
     "execution_count": 30,
     "metadata": {},
     "output_type": "execute_result"
    }
   ],
   "source": [
    "polynomial_features=PolynomialFeatures(degree=2)\n",
    "x_test_poly = polynomial_features.fit_transform(newest_test)\n",
    "new_model.predict(x_test_poly)"
   ]
  },
  {
   "cell_type": "code",
   "execution_count": 31,
   "metadata": {},
   "outputs": [
    {
     "data": {
      "text/plain": [
       "4.79"
      ]
     },
     "execution_count": 31,
     "metadata": {},
     "output_type": "execute_result"
    }
   ],
   "source": [
    "rate_convert(.0030)"
   ]
  },
  {
   "cell_type": "code",
   "execution_count": null,
   "metadata": {},
   "outputs": [],
   "source": []
  },
  {
   "cell_type": "code",
   "execution_count": null,
   "metadata": {},
   "outputs": [],
   "source": []
  }
 ],
 "metadata": {
  "kernelspec": {
   "display_name": "Python 3",
   "language": "python",
   "name": "python3"
  },
  "language_info": {
   "codemirror_mode": {
    "name": "ipython",
    "version": 3
   },
   "file_extension": ".py",
   "mimetype": "text/x-python",
   "name": "python",
   "nbconvert_exporter": "python",
   "pygments_lexer": "ipython3",
   "version": "3.6.5"
  }
 },
 "nbformat": 4,
 "nbformat_minor": 2
}
